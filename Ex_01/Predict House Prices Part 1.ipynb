{
 "cells": [
  {
   "cell_type": "code",
   "execution_count": null,
   "metadata": {},
   "outputs": [],
   "source": [
    "# House Sales Data, ETL, Build Predictive Model(linear regression), \n",
    "# Assess Model, Deploy Model   'houseSmallData.csv' and \"data_description.txt\"\n"
   ]
  },
  {
   "cell_type": "code",
   "execution_count": 1,
   "metadata": {},
   "outputs": [],
   "source": [
    "import pandas as pd\n",
    "import numpy as np\n",
    "import matplotlib.pyplot as plt"
   ]
  },
  {
   "cell_type": "markdown",
   "metadata": {},
   "source": [
    "### data_description.txt\n",
    "SalePrice — the property’s sale price in dollars. This is the target variable that you’re trying to predict.  \n",
    "MSSubClass — The building class  \n",
    "MSZoning — The general zoning classification \n",
    "MasVnrArea - Masonary Veneer Area in sq ft\n",
    "LotFrontage — Linear feet of street connected to property  \n",
    "LotArea — Lot size in square feet  \n",
    "Street — Type of road access  \n",
    "Alley — Type of alley access  \n",
    "LotShape — General shape of property  \n",
    "LandContour — Flatness of the property  \n",
    "Utilities — Type of utilities available  \n",
    "LotConfig — Lot configuration  "
   ]
  },
  {
   "cell_type": "markdown",
   "metadata": {},
   "source": [
    "$$Y = X_{1}\\beta_{1} + X_{2}\\beta_{2} + X_{3}\\beta_{3}...$$"
   ]
  },
  {
   "cell_type": "code",
   "execution_count": 2,
   "metadata": {},
   "outputs": [
    {
     "ename": "SyntaxError",
     "evalue": "unterminated string literal (detected at line 1) (4240730987.py, line 1)",
     "output_type": "error",
     "traceback": [
      "\u001b[0;36m  Cell \u001b[0;32mIn [2], line 1\u001b[0;36m\u001b[0m\n\u001b[0;31m    data = pd.read_csv('https://raw.githubusercontent.com/johntango/Lecture11/master/house100Data.csv)\u001b[0m\n\u001b[0m                       ^\u001b[0m\n\u001b[0;31mSyntaxError\u001b[0m\u001b[0;31m:\u001b[0m unterminated string literal (detected at line 1)\n"
     ]
    }
   ],
   "source": [
    "data = pd.read_csv('https://raw.githubusercontent.com/johntango/Lecture11/master/house100Data.csv')\n",
    "data.shape\n",
    "train = data.iloc[0:20,:]\n",
    "train.head()\n",
    "# predict the price of the house\n",
    "# 1. ETL    Extract, Transform, Load    (data cleaning)\n",
    "# 2. Build Predictive Model (linear regression)\n",
    "# 3. Assess Model\n",
    "# 4. Deploy Model\n",
    "\n",
    "\n",
    "\n",
    "\n",
    "\n"
   ]
  },
  {
   "cell_type": "code",
   "execution_count": null,
   "metadata": {},
   "outputs": [],
   "source": [
    "# investigate Sale Price\n",
    "train['SalePrice']"
   ]
  },
  {
   "cell_type": "code",
   "execution_count": null,
   "metadata": {},
   "outputs": [],
   "source": [
    "# plot hist\n",
    "plt.hist(train['SalePrice'])"
   ]
  },
  {
   "cell_type": "code",
   "execution_count": null,
   "metadata": {},
   "outputs": [],
   "source": [
    "# select numeric columns\n",
    "# calculate correlation factor\n",
    "numeric = train.select_dtypes(include=[np.number])\n",
    "numeric.shape"
   ]
  },
  {
   "cell_type": "code",
   "execution_count": null,
   "metadata": {},
   "outputs": [],
   "source": [
    "corr = numeric.corr()\n",
    "cols = corr['SalePrice'].sort_values(ascending=False)[0:3].index\n",
    "cols"
   ]
  },
  {
   "cell_type": "code",
   "execution_count": null,
   "metadata": {},
   "outputs": [],
   "source": [
    "# pick out X cols and Y = SalePricee\n",
    "X = train[cols]\n",
    "Y = train['SalePrice']\n",
    "X = X.drop(['SalePrice'], axis = 1)\n",
    "X"
   ]
  },
  {
   "cell_type": "code",
   "execution_count": null,
   "metadata": {},
   "outputs": [],
   "source": [
    "# buld Linear Regression Model\n",
    "from sklearn import linear_model\n",
    "lr = linear_model.LinearRegression()\n",
    "model = lr.fit(X, Y)\n",
    "predictions = model.predict(X)"
   ]
  },
  {
   "cell_type": "code",
   "execution_count": null,
   "metadata": {},
   "outputs": [],
   "source": [
    "# How good is the model\n",
    "model.score(X,Y)\n"
   ]
  },
  {
   "cell_type": "code",
   "execution_count": null,
   "metadata": {},
   "outputs": [],
   "source": [
    "# Scatter plot of predictions\n",
    "plt.scatter(predictions, Y)"
   ]
  },
  {
   "cell_type": "code",
   "execution_count": null,
   "metadata": {},
   "outputs": [],
   "source": []
  },
  {
   "cell_type": "code",
   "execution_count": null,
   "metadata": {},
   "outputs": [],
   "source": []
  },
  {
   "cell_type": "code",
   "execution_count": null,
   "metadata": {},
   "outputs": [],
   "source": []
  },
  {
   "cell_type": "code",
   "execution_count": null,
   "metadata": {},
   "outputs": [],
   "source": []
  },
  {
   "cell_type": "code",
   "execution_count": null,
   "metadata": {},
   "outputs": [],
   "source": []
  }
 ],
 "metadata": {
  "kernelspec": {
   "display_name": "Python 3.10.6 ('base')",
   "language": "python",
   "name": "python3"
  },
  "language_info": {
   "codemirror_mode": {
    "name": "ipython",
    "version": 3
   },
   "file_extension": ".py",
   "mimetype": "text/x-python",
   "name": "python",
   "nbconvert_exporter": "python",
   "pygments_lexer": "ipython3",
   "version": "3.10.6"
  },
  "vscode": {
   "interpreter": {
    "hash": "842c0bc757cc2e5bded09c9011562ae876aefe60d9b7a3827c7c03fa357eaa81"
   }
  }
 },
 "nbformat": 4,
 "nbformat_minor": 4
}
